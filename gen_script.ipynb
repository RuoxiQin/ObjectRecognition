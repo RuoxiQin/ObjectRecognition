{
 "cells": [
  {
   "cell_type": "code",
   "execution_count": 39,
   "metadata": {},
   "outputs": [],
   "source": [
    "import os.path\n",
    "import numpy as np"
   ]
  },
  {
   "cell_type": "code",
   "execution_count": 40,
   "metadata": {},
   "outputs": [],
   "source": [
    "path_prefix = '../CS640_Project_dataset/'\n",
    "dir_prefix = 'scene_'\n",
    "obj_suffix = '.JPG'\n",
    "file_scene = 'scene.jpg'\n",
    "file_xml = 'scene.xml'\n",
    "\n",
    "ikea_scenes = [\n",
    "    'bathroom', 'bedroom', 'childrenroom', \n",
    "    'hallway', 'homeoffice', 'kitchen', \n",
    "    'laundry', 'livingroom', 'outdoor']"
   ]
  },
  {
   "cell_type": "code",
   "execution_count": 89,
   "metadata": {},
   "outputs": [],
   "source": [
    "def scan_num_obj(path):\n",
    "    i = 0\n",
    "    if not os.path.exists(path + '/' + file_xml):\n",
    "        return i\n",
    "    while True:\n",
    "        fname = path + '/' + str(i+1) + obj_suffix\n",
    "        if os.path.exists(fname):\n",
    "            i += 1\n",
    "        else:\n",
    "            break\n",
    "    return i\n",
    "\n",
    "def scan_scene(path_to_scene):\n",
    "    count = []\n",
    "    i = 1\n",
    "    while True:\n",
    "        path_name = path_to_scene + '/' + dir_prefix + str(i)\n",
    "        i += 1 \n",
    "        if os.path.exists(path_name):\n",
    "            count.append(scan_num_obj(path_name))\n",
    "        else:\n",
    "            break\n",
    "    return count\n",
    "\n",
    "def scan_all(path_to_data):\n",
    "    output = []\n",
    "    for x in ikea_scenes:\n",
    "        output.append(scan_scene(path_to_data + '/' + x))\n",
    "    return output\n",
    "\n",
    "dataset_structure = scan_all(path_prefix)"
   ]
  },
  {
   "cell_type": "code",
   "execution_count": 101,
   "metadata": {},
   "outputs": [],
   "source": [
    "def backtrack_path(target_num, path_to_data):\n",
    "    scene_loc = 0\n",
    "    scene_num = 0\n",
    "    found = False\n",
    "    for x in dataset_structure:\n",
    "        for y in x:\n",
    "            if (target_num <= y):\n",
    "                found = True\n",
    "                break\n",
    "            else: \n",
    "                target_num -= y\n",
    "                scene_num += 1\n",
    "        if found:\n",
    "            break\n",
    "        scene_loc += 1\n",
    "    return (scene_loc, scene_num + 1, target_num)"
   ]
  },
  {
   "cell_type": "code",
   "execution_count": 102,
   "metadata": {},
   "outputs": [
    {
     "data": {
      "text/plain": [
       "(0, 4, 5)"
      ]
     },
     "execution_count": 102,
     "metadata": {},
     "output_type": "execute_result"
    }
   ],
   "source": [
    "backtrack_path(35, path_prefix)"
   ]
  },
  {
   "cell_type": "code",
   "execution_count": null,
   "metadata": {},
   "outputs": [],
   "source": [
    "\n",
    "def generate_target():\n",
    "    return None"
   ]
  }
 ],
 "metadata": {
  "kernelspec": {
   "display_name": "Python 3",
   "language": "python",
   "name": "python3"
  },
  "language_info": {
   "codemirror_mode": {
    "name": "ipython",
    "version": 3
   },
   "file_extension": ".py",
   "mimetype": "text/x-python",
   "name": "python",
   "nbconvert_exporter": "python",
   "pygments_lexer": "ipython3",
   "version": "3.6.4"
  }
 },
 "nbformat": 4,
 "nbformat_minor": 2
}
