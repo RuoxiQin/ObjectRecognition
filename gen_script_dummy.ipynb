{
 "cells": [
  {
   "cell_type": "code",
   "execution_count": 1,
   "metadata": {},
   "outputs": [],
   "source": [
    "# imports\n",
    "\n",
    "import os.path\n",
    "import numpy as np\n",
    "import cv2\n",
    "import random\n",
    "import xml.etree.ElementTree as ET"
   ]
  },
  {
   "cell_type": "markdown",
   "metadata": {},
   "source": [
    "# DATASET SORTINGS"
   ]
  },
  {
   "cell_type": "code",
   "execution_count": 2,
   "metadata": {},
   "outputs": [],
   "source": [
    "# Init parameters\n",
    "\n",
    "path_prefix = '../CS640_Project_dataset/'\n",
    "dir_prefix = 'scene_'\n",
    "obj_suffix = '.JPG'\n",
    "file_scene = 'scene.jpg'\n",
    "file_xml = 'scene.xml'\n",
    "obj_dim = 500\n",
    "\n",
    "ikea_scenes = [\n",
    "    'bathroom', 'bedroom', 'childrenroom', \n",
    "    'hallway', 'homeoffice', 'kitchen', \n",
    "    'laundry', 'livingroom', 'outdoor']"
   ]
  },
  {
   "cell_type": "code",
   "execution_count": 29,
   "metadata": {},
   "outputs": [
    {
     "name": "stdout",
     "output_type": "stream",
     "text": [
      "[[10, 10, 10, 10, 10, 10, 10, 10, 10, 9, 10, 10, 10, 8, 10, 7, 10, 10, 5, 9, 10, 6, 6, 5, 7, 9, 4], [19, 17, 19, 15, 19, 14, 15, 13, 19, 14, 10, 11, 7, 12, 9, 11, 16, 13, 17, 13, 19, 19, 10, 10, 9, 6, 17, 6, 7, 5, 2, 17, 3, 8, 8, 17, 8, 9, 7, 3, 14], [21, 17, 17, 16, 12, 13, 21, 12, 7, 11, 7, 9, 6, 16, 18, 10, 9, 9, 15, 15, 21, 3, 16, 16, 9, 9, 15, 9, 9, 16, 10, 11, 21], [10, 10, 10, 10, 10, 8, 10, 8, 10, 6, 10, 9, 10, 9, 10, 7, 9, 10, 9, 6, 6, 6, 7, 2, 6, 5, 3], [11, 11, 11, 11, 11, 11, 11, 11, 11, 11, 5, 10, 11, 10, 7, 11, 10, 9, 1, 5, 7], [13, 13, 13, 13, 12, 9, 11, 13, 13, 11, 13, 13, 13, 13, 12, 13, 13, 13, 11, 9, 13, 13, 12, 13, 9, 11, 12, 8, 10, 13, 4, 4, 13, 9, 3, 4, 8, 13, 13, 13, 13, 13, 13, 13, 13, 13, 13, 13, 12, 13, 13, 13, 11, 11, 13, 13, 11, 13, 13], [7, 7, 7, 4], [20, 20, 14, 20, 17, 20, 18, 9, 16, 16, 14, 17, 15, 16, 16, 11, 14, 17, 20, 18, 16, 17, 20, 14, 20, 18, 18, 15, 14, 18, 14, 15, 14, 14, 10, 9, 11, 15, 10, 20, 17, 18, 17, 18, 13, 18, 12, 14, 13, 13, 11, 8, 17, 5, 9, 6, 6, 8, 12, 18, 8, 8, 7, 16, 13, 19, 13, 16, 13, 8, 10, 8], [20, 17, 20, 13, 13, 19, 12, 15, 13, 11, 10, 15, 16, 9, 8, 14, 7, 8, 6, 1, 6, 3, 10, 7, 4, 3, 5]]\n"
     ]
    }
   ],
   "source": [
    "# compute the dataset_structure\n",
    "\n",
    "def scan_num_obj(path):\n",
    "    i = 0\n",
    "    if not os.path.exists(path + '/' + file_xml):\n",
    "        return i\n",
    "    while True:\n",
    "        fname = path + '/' + str(i+1) + obj_suffix\n",
    "        if os.path.exists(fname):\n",
    "            i += 1\n",
    "        else:\n",
    "            break\n",
    "    return i\n",
    "\n",
    "def scan_scene(path_to_scene):\n",
    "    count = []\n",
    "    i = 1\n",
    "    while True:\n",
    "        path_name = path_to_scene + '/' + dir_prefix + str(i)\n",
    "        i += 1 \n",
    "        if os.path.exists(path_name):\n",
    "            count.append(scan_num_obj(path_name))\n",
    "        else:\n",
    "            break\n",
    "    return count\n",
    "\n",
    "def scan_all(path_to_data):\n",
    "    output = []\n",
    "    for x in ikea_scenes:\n",
    "        output.append(scan_scene(path_to_data + '/' + x))\n",
    "    return output\n",
    "\n",
    "dataset_structure = scan_all(path_prefix)"
   ]
  },
  {
   "cell_type": "code",
   "execution_count": 32,
   "metadata": {},
   "outputs": [],
   "source": [
    "# backtrack the path to the objects\n",
    "\n",
    "def backtrack_path(target_num, path_to_data):\n",
    "    scene_loc = 0\n",
    "    scene_num = 0\n",
    "    found = False\n",
    "    for x in dataset_structure:\n",
    "        for y in x:\n",
    "            scene_num = 0\n",
    "            if (target_num <= y):\n",
    "                found = True\n",
    "                break\n",
    "            else: \n",
    "                target_num -= y\n",
    "                scene_num += 1\n",
    "        if found:\n",
    "            break\n",
    "        scene_loc += 1\n",
    "    return (scene_loc, scene_num + 1, target_num)"
   ]
  },
  {
   "cell_type": "markdown",
   "metadata": {},
   "source": [
    "# GENERATE TRAINING PICS"
   ]
  },
  {
   "cell_type": "code",
   "execution_count": 37,
   "metadata": {},
   "outputs": [],
   "source": [
    "# get obj from xml \n",
    "def bound_xml(tup, path):\n",
    "    path_to_xml = path + ikea_scenes[tup[0]] + '/' \\\n",
    "            + dir_prefix + str(tup[1]) + '/' \\\n",
    "            + file_xml\n",
    "    target_obj = tup[2] \n",
    "    \n",
    "    # XML parsing\n",
    "    found = False \n",
    "    tree = ET.parse(path_to_xml)\n",
    "    root = tree.getroot()\n",
    "    for obj in root.iter('object'):\n",
    "        if(obj.find('deleted').text == \"0\") and obj.find('name').text == str(target_obj):\n",
    "            x_list = []\n",
    "            y_list = []\n",
    "            for pt in obj.iter('pt'):\n",
    "                x = int(pt.find('x').text)\n",
    "                y = int(pt.find('y').text)\n",
    "                x_list.append(x)\n",
    "                y_list.append(y)\n",
    "            Found = True # Found!\n",
    "            break\n",
    "        else: \n",
    "            continue \n",
    "    if Found:\n",
    "        return min(x_list), max(x_list), min(y_list), max(y_list)\n",
    "    else: \n",
    "        return 0,0,0,0\n",
    "\n",
    "# backtrack path \n",
    "def backtrack_tuple(tup, path):\n",
    "    return (path + ikea_scenes[tup[0]] + '/' \\\n",
    "            + dir_prefix + str(tup[1]) + '/' \\\n",
    "            + str(tup[2]) + obj_suffix)\n",
    "\n",
    "# cropping script \n",
    "def img_crop(img, dim = (227, 227), loc = None):\n",
    "    if loc == None:\n",
    "        a = img.shape\n",
    "        loc = [(0,0), (a[0] - 1, a[1] - 1)]\n",
    "    crop_img = img[loc[0][0]:loc[1][0], loc[0][1]:loc[1][1]]\n",
    "    resized_image = cv2.resize(crop_img, dim)\n",
    "    return resized_image \n",
    "\n",
    "\n",
    "##### training data generation ######\n",
    "\n",
    "def gen_object(target_object, tup):\n",
    "    return_imgs = []\n",
    "    \n",
    "    # backtracking path \n",
    "    t_p = backtrack_tuple(tup, path_prefix) \n",
    "    \n",
    "    o_img = cv2.imread(t_p) \n",
    "    # gen cropped obj's\n",
    "    for i in range(50):\n",
    "        r_4 = [random.getrandbits(1) for j in range(4)]\n",
    "        return_imgs.append( \\\n",
    "            img_crop(o_img, loc = \\\n",
    "            [(r_4[0], r_4[1]), \\\n",
    "            (obj_dim - 1 - r_4[2], obj_dim - 1 - r_4[3])] \\\n",
    "            ))\n",
    "        \n",
    "        #### Testing codes\n",
    "        # cv2.imwrite(str(i)+'_test.jpg', return_imgs[i])\n",
    "    return return_imgs\n",
    "\n",
    "def gen_scene_1(target_object, bounds):\n",
    "    \n",
    "    return [np.array([])]\n",
    "\n",
    "##### INPUT FUNC #####\n",
    "\n",
    "def input_func():\n",
    "    # choose target objects randomly\n",
    "    n = 3574\n",
    "    target_obj = random.sample(range(1,n+1),20)\n",
    "    \n",
    "    # init\n",
    "    features = {'objects': [], 'scenes': []}\n",
    "    labels = []\n",
    "    \n",
    "    for x in target_obj:\n",
    "        #### get xml, otherwise reroll until found \n",
    "        \n",
    "        #get_xml = bound_xml(x, path_prefix)\n",
    "        #while get_xml == (0,0,0,0):\n",
    "        #    x = random.randint(1, n)\n",
    "        #    get_xml = bound_xml(x, path_prefix)\n",
    "        \n",
    "        obj_tuple = backtrack_path(x, path_prefix) \n",
    "        #### objects \n",
    "        obj_list = gen_object(x, obj_tuple)\n",
    "        features['objects'].extend(obj_list)\n",
    "        \n",
    "        #### \n",
    "        fts = gen_object(x, obj_tuple) # 50\n",
    "        features['scenes'].extend(fts) \n",
    "        for i in range(50):\n",
    "            labels.append(1)\n",
    "    \n",
    "    return features, labels"
   ]
  },
  {
   "cell_type": "code",
   "execution_count": 38,
   "metadata": {
    "scrolled": true
   },
   "outputs": [],
   "source": [
    "features, labels = input_func()"
   ]
  },
  {
   "cell_type": "code",
   "execution_count": null,
   "metadata": {},
   "outputs": [],
   "source": []
  }
 ],
 "metadata": {
  "kernelspec": {
   "display_name": "Python 3",
   "language": "python",
   "name": "python3"
  },
  "language_info": {
   "codemirror_mode": {
    "name": "ipython",
    "version": 3
   },
   "file_extension": ".py",
   "mimetype": "text/x-python",
   "name": "python",
   "nbconvert_exporter": "python",
   "pygments_lexer": "ipython3",
   "version": "3.6.4"
  }
 },
 "nbformat": 4,
 "nbformat_minor": 2
}
