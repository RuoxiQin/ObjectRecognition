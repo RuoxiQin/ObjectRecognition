{
 "cells": [
  {
   "cell_type": "code",
   "execution_count": 3,
   "metadata": {},
   "outputs": [],
   "source": [
    "# imports\n",
    "\n",
    "import numpy as np\n",
    "import cv2\n",
    "import timeit\n",
    "import os.path\n",
    "import random\n",
    "# from feed_forward import blackbox"
   ]
  },
  {
   "cell_type": "code",
   "execution_count": 4,
   "metadata": {},
   "outputs": [],
   "source": [
    "# cropping script \n",
    "def img_crop(img, dim = (227, 227), loc = None):\n",
    "    if loc == None:\n",
    "        a = img.shape\n",
    "        loc = [(0,0), (a[0] - 1, a[1] - 1)]\n",
    "    crop_img = img[loc[0][0]:loc[1][0], loc[0][1]:loc[1][1]]\n",
    "    resized_image = cv2.resize(crop_img, dim)\n",
    "    return resized_image "
   ]
  },
  {
   "cell_type": "code",
   "execution_count": 10,
   "metadata": {},
   "outputs": [],
   "source": [
    "def blackbox(x,y):\n",
    "    return None\n",
    "\n",
    "def locate_object_contours(img_obj, img_scene):\n",
    "    divide = 3\n",
    "    contours = []\n",
    "    \n",
    "    img_scene_dim = img_scene.shape\n",
    "    seg_increment = int((min(img_scene_dim[0], img_scene_dim[1]) - 1) / divide)\n",
    "    \n",
    "    for k in range(divide):\n",
    "        contour = []\n",
    "        current_seg = (k+1) * seg_increment\n",
    "        shift_increment = int(current_seg / 3)\n",
    "        scan_x = int((img_scene_dim[0] - seg_increment - 1) / shift_increment)\n",
    "        scan_y = int((img_scene_dim[1] - seg_increment - 1) / shift_increment)\n",
    "\n",
    "        for i in range(scan_x):\n",
    "            sub_contour = []\n",
    "            for j in range(scan_y):\n",
    "                tl = (i * shift_increment, j * shift_increment)\n",
    "                test_scene = \\\n",
    "                    img_crop(img_scene, \\\n",
    "                            loc = \\\n",
    "                            [(tl[0], tl[1]), \n",
    "                             (tl[0]+current_seg-1,tl[1]+current_seg-1 )])\n",
    "                sub_contour.append(blackbox(img_obj, test_scene))\n",
    "            contour.append(subcontour)\n",
    "        contours.append(np.array(contour))\n",
    "    return contours"
   ]
  }
 ],
 "metadata": {
  "kernelspec": {
   "display_name": "Python 3",
   "language": "python",
   "name": "python3"
  },
  "language_info": {
   "codemirror_mode": {
    "name": "ipython",
    "version": 3
   },
   "file_extension": ".py",
   "mimetype": "text/x-python",
   "name": "python",
   "nbconvert_exporter": "python",
   "pygments_lexer": "ipython3",
   "version": "3.6.4"
  }
 },
 "nbformat": 4,
 "nbformat_minor": 2
}
